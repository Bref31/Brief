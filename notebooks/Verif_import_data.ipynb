{
 "cells": [
  {
   "cell_type": "code",
   "execution_count": null,
   "metadata": {},
   "outputs": [],
   "source": [
    "import sqlite3\n",
    "\n",
    "# Connexion à la base de données SQLite\n",
    "conn = sqlite3.connect('/data/sales.db')\n",
    "cursor = conn.cursor()\n",
    "\n",
    "# Vérifier les tables créées\n",
    "cursor.execute(\"SELECT name FROM sqlite_master WHERE type='table';\")\n",
    "tables = cursor.fetchall()\n",
    "print(\"Tables dans la base de données :\", tables)\n",
    "\n",
    "# Vérifier le contenu de la table produits\n",
    "cursor.execute(\"SELECT * FROM produits;\")\n",
    "produits = cursor.fetchall()\n",
    "print(\"Contenu de la table 'produits' :\", produits)\n",
    "\n",
    "# Vérifier le contenu de la table magasins\n",
    "cursor.execute(\"SELECT * FROM magasins;\")\n",
    "magasins = cursor.fetchall()\n",
    "print(\"Contenu de la table 'magasins' :\", magasins)\n",
    "\n",
    "# Vérifier le contenu de la table ventes\n",
    "cursor.execute(\"SELECT * FROM ventes;\")\n",
    "ventes = cursor.fetchall()\n",
    "print(\"Contenu de la table 'ventes' :\", ventes)\n",
    "\n",
    "# Fermer la connexion\n",
    "conn.close()\n"
   ]
  },
  {
   "cell_type": "code",
   "execution_count": null,
   "metadata": {},
   "outputs": [],
   "source": []
  }
 ],
 "metadata": {
  "kernelspec": {
   "display_name": "Python 3",
   "language": "python",
   "name": "python3"
  },
  "language_info": {
   "codemirror_mode": {
    "name": "ipython",
    "version": 3
   },
   "file_extension": ".py",
   "mimetype": "text/x-python",
   "name": "python",
   "nbconvert_exporter": "python",
   "pygments_lexer": "ipython3",
   "version": "3.11.9"
  }
 },
 "nbformat": 4,
 "nbformat_minor": 2
}

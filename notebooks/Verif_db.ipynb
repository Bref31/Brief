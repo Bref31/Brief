{
 "cells": [
  {
   "cell_type": "code",
   "execution_count": null,
   "id": "69c672d1",
   "metadata": {},
   "outputs": [],
   "source": [
    "import sqlite3\n",
    "\n",
    "# Connexion à la base de données SQLite\n",
    "conn = sqlite3.connect('/data/sales.db')\n",
    "cursor = conn.cursor()\n",
    "\n",
    "# Vérifier les tables créées\n",
    "cursor.execute(\"SELECT name FROM sqlite_master WHERE type='table';\")\n",
    "tables = cursor.fetchall()\n",
    "print(\"Tables dans la base de données :\", tables)\n",
    "# Fermer la connexion\n",
    "conn.close()\n"
   ]
  },
  {
   "cell_type": "code",
   "execution_count": null,
   "id": "ae7c0ded",
   "metadata": {},
   "outputs": [],
   "source": [
    "import sqlite3\n",
    "\n",
    "# Connexion à la base de données SQLite\n",
    "conn = sqlite3.connect('/data/sales.db')\n",
    "cursor = conn.cursor()\n",
    "# Vérifier la structure d'une table spécifique\n",
    "cursor.execute(\"PRAGMA table_info(produits);\")\n",
    "produits_info = cursor.fetchall()\n",
    "print(\"Structure de la table 'produits' :\", produits_info)\n",
    "\n",
    "cursor.execute(\"PRAGMA table_info(magasins);\")\n",
    "magasins_info = cursor.fetchall()\n",
    "print(\"Structure de la table 'magasins' :\", magasins_info)\n",
    "\n",
    "cursor.execute(\"PRAGMA table_info(ventes);\")\n",
    "ventes_info = cursor.fetchall()\n",
    "print(\"Structure de la table 'ventes' :\", ventes_info)\n",
    "\n",
    "cursor.execute(\"PRAGMA table_info(analyse_ventes);\")\n",
    "analyse_ventes_info = cursor.fetchall()\n",
    "print(\"Structure de la table 'analyse_ventes' :\", analyse_ventes_info)\n",
    "\n",
    "# Fermer la connexion\n",
    "conn.close()"
   ]
  }
 ],
 "metadata": {
  "kernelspec": {
   "display_name": "Python 3",
   "language": "python",
   "name": "python3"
  },
  "language_info": {
   "codemirror_mode": {
    "name": "ipython",
    "version": 3
   },
   "file_extension": ".py",
   "mimetype": "text/x-python",
   "name": "python",
   "nbconvert_exporter": "python",
   "pygments_lexer": "ipython3",
   "version": "3.9.5"
  }
 },
 "nbformat": 4,
 "nbformat_minor": 5
}
